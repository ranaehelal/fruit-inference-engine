{
 "cells": [
  {
   "cell_type": "markdown",
   "id": "6c1f61e3f91c48b4",
   "metadata": {
    "jp-MarkdownHeadingCollapsed": true
   },
   "source": [
    "# Load facts from a file."
   ]
  },
  {
   "cell_type": "markdown",
   "id": "200a6a9a9ec18ea0",
   "metadata": {
    "jp-MarkdownHeadingCollapsed": true
   },
   "source": [
    "## Parse a single fact line into a key-value pair"
   ]
  },
  {
   "cell_type": "code",
   "execution_count": 47,
   "id": "f76dc24eeb77e42",
   "metadata": {
    "ExecuteTime": {
     "end_time": "2025-05-06T03:31:34.683731Z",
     "start_time": "2025-05-06T03:31:34.675797Z"
    }
   },
   "outputs": [],
   "source": [
    "def parse_fact_line(line):\n",
    "    line = line.strip()\n",
    "    if not line or line.startswith('#'):\n",
    "        return None\n",
    "\n",
    "    if ' is ' in line:\n",
    "        key, value = line.split(' is ')\n",
    "        return key.strip(), value.strip()\n",
    "    elif '=' in line:\n",
    "        key, value = line.split('=')\n",
    "        key = key.strip()\n",
    "        try:\n",
    "            value = float(value.strip())\n",
    "        except ValueError:\n",
    "            value = value.strip()\n",
    "        return key, value\n",
    "    else:\n",
    "        return line.strip(), True"
   ]
  },
  {
   "cell_type": "code",
   "execution_count": 48,
   "id": "fdcf16c3013ab3e3",
   "metadata": {
    "ExecuteTime": {
     "end_time": "2025-05-06T03:31:34.740418Z",
     "start_time": "2025-05-06T03:31:34.729821Z"
    }
   },
   "outputs": [],
   "source": [
    "def load_facts(filename):\n",
    "    facts = {}\n",
    "    goal = None\n",
    "\n",
    "    with open(filename, 'r') as file:\n",
    "        for line in file:\n",
    "            line = line.strip()\n",
    "            if not line:\n",
    "                continue\n",
    "\n",
    "            if line.startswith(\"#goal prove\"):\n",
    "                goal = line[12:].strip()\n",
    "                continue\n",
    "\n",
    "            result = parse_fact_line(line)\n",
    "            if result:\n",
    "                key, value = result\n",
    "                facts[key] = value\n",
    "\n",
    "    return facts, goal"
   ]
  },
  {
   "cell_type": "markdown",
   "id": "7c7613c2f3175b64",
   "metadata": {
    "jp-MarkdownHeadingCollapsed": true
   },
   "source": [
    "# Load rules from a file."
   ]
  },
  {
   "cell_type": "markdown",
   "id": "146f327d108ab763",
   "metadata": {
    "jp-MarkdownHeadingCollapsed": true
   },
   "source": [
    "## Parse a single rule line"
   ]
  },
  {
   "cell_type": "code",
   "execution_count": 49,
   "id": "f9418e02ba49ecae",
   "metadata": {
    "ExecuteTime": {
     "end_time": "2025-05-06T03:31:34.792847Z",
     "start_time": "2025-05-06T03:31:34.785888Z"
    }
   },
   "outputs": [],
   "source": [
    "def parse_rule_line(line):\n",
    "    line = line.strip()\n",
    "    if not line or not line.startswith(\"IF\"):\n",
    "        return []\n",
    "\n",
    "    parts = line.split(\" THEN \")\n",
    "    if len(parts) != 2:\n",
    "        return []\n",
    "\n",
    "    conditions_str = parts[0].replace(\"IF \", \"\").strip()\n",
    "    result = parts[1].strip()\n",
    "\n",
    "    # handle OR conditions\n",
    "    # to make new cond for each one\n",
    "    if \" OR \" in conditions_str:\n",
    "        conditions = [cond.strip() for cond in conditions_str.split(\" OR \")]\n",
    "        return [{\"conditions\": [cond], \"result\": result} for cond in conditions]\n",
    "\n",
    "    # handle AND conditions\n",
    "    elif \" AND \" in conditions_str:\n",
    "        conditions = [cond.strip() for cond in conditions_str.split(\" AND \")]\n",
    "        return [{\"conditions\": conditions, \"result\": result}]\n",
    "\n",
    "    # handle single condition\n",
    "    else:\n",
    "        return [{\"conditions\": [conditions_str], \"result\": result}]"
   ]
  },
  {
   "cell_type": "code",
   "execution_count": 50,
   "id": "648cf593854c03c2",
   "metadata": {
    "ExecuteTime": {
     "end_time": "2025-05-06T03:31:34.839408Z",
     "start_time": "2025-05-06T03:31:34.836477Z"
    }
   },
   "outputs": [],
   "source": [
    "def load_rules(filename):\n",
    "    rules = []\n",
    "    with open(filename, 'r') as file:\n",
    "        for line in file:\n",
    "            parsed_rules = parse_rule_line(line)\n",
    "            rules.extend(parsed_rules)\n",
    "    return rules\n"
   ]
  },
  {
   "cell_type": "markdown",
   "id": "228019c6b7c96e1a",
   "metadata": {
    "jp-MarkdownHeadingCollapsed": true
   },
   "source": [
    "## handle math operators (>, <, =)"
   ]
  },
  {
   "cell_type": "code",
   "execution_count": 51,
   "id": "14c117d4775899e3",
   "metadata": {
    "ExecuteTime": {
     "end_time": "2025-05-06T03:31:34.887483Z",
     "start_time": "2025-05-06T03:31:34.882495Z"
    }
   },
   "outputs": [],
   "source": [
    "def evaluate_condition(condition, facts_dict):\n",
    "\n",
    "    if '>' in condition:\n",
    "        key, value = condition.split('>')\n",
    "        key = key.strip()\n",
    "        value = float(value.strip())\n",
    "        return key in facts_dict and isinstance(facts_dict[key], (int, float)) and float(facts_dict[key]) > value\n",
    "    elif '<' in condition:\n",
    "        key, value = condition.split('<')\n",
    "        key = key.strip()\n",
    "        value = float(value.strip())\n",
    "        return key in facts_dict and isinstance(facts_dict[key], (int, float)) and float(facts_dict[key]) < value\n",
    "    elif '=' in condition:\n",
    "        key, value = condition.split('=')\n",
    "        key = key.strip()\n",
    "        value = float(value.strip())\n",
    "        return key in facts_dict and isinstance(facts_dict[key], (int, float)) and float(facts_dict[key]) == value\n",
    "    elif ' is ' in condition:\n",
    "        key, value = condition.split(' is ')\n",
    "        key = key.strip()\n",
    "        value = value.strip()\n",
    "        return key in facts_dict and str(facts_dict[key]) == str(value)\n",
    "    else:\n",
    "        return condition in facts_dict and facts_dict[condition] is True"
   ]
  },
  {
   "cell_type": "markdown",
   "id": "85d0be4212e4ae74",
   "metadata": {
    "jp-MarkdownHeadingCollapsed": true
   },
   "source": [
    "## return the rule in a readable format (if -then )"
   ]
  },
  {
   "cell_type": "code",
   "execution_count": 52,
   "id": "initial_id",
   "metadata": {
    "ExecuteTime": {
     "end_time": "2025-05-06T03:31:34.941257Z",
     "start_time": "2025-05-06T03:31:34.934438Z"
    },
    "collapsed": true,
    "jupyter": {
     "outputs_hidden": true
    }
   },
   "outputs": [],
   "source": [
    "\n",
    "def format_rule(rule):\n",
    "    return f\"IF {' AND '.join(rule['conditions'])} THEN {rule['result']}\"\n"
   ]
  },
  {
   "cell_type": "markdown",
   "id": "73157c95e2aed0f",
   "metadata": {
    "jp-MarkdownHeadingCollapsed": true
   },
   "source": [
    "# Backward chaining"
   ]
  },
  {
   "cell_type": "code",
   "execution_count": 53,
   "id": "9a6d4c34bc33e256",
   "metadata": {
    "ExecuteTime": {
     "end_time": "2025-05-06T03:31:34.991427Z",
     "start_time": "2025-05-06T03:31:34.985749Z"
    }
   },
   "outputs": [],
   "source": [
    "def backward_chain(goal, rules, facts_dict, proved_goals=None, depth=0):\n",
    "\n",
    "    if proved_goals is None:\n",
    "        proved_goals = set()\n",
    "\n",
    "    indent = \"  \" * depth\n",
    "    print(f\"{indent}Step {depth + 1}: Trying to prove: {goal}\")\n",
    "\n",
    "    #  directly available in facts\n",
    "    if evaluate_condition(goal, facts_dict):\n",
    "        print(f\"{indent}Step {depth + 1}: Evaluated and true: {goal}\")\n",
    "        proved_goals.add(goal)\n",
    "        return True\n",
    "\n",
    "    # goal already proven\n",
    "    if goal in proved_goals:\n",
    "        print(f\"{indent}Step {depth + 1}: Already known: {goal}\")\n",
    "        return True\n",
    "\n",
    "    # rules that can prove this goal\n",
    "    applicable_rules = [rule for rule in rules if rule[\"result\"] == goal]\n",
    "    if not applicable_rules:\n",
    "        print(f\"{indent}Step {depth + 1}: No applicable rules to prove: {goal}\")\n",
    "        return False\n",
    "\n",
    "\n",
    "    for rule in applicable_rules:\n",
    "        print(f\"{indent}Step {depth + 1}: Considering rule: {format_rule(rule)}\")\n",
    "\n",
    "        all_conditions_proven = True #initially true\n",
    "        for idx, condition in enumerate(rule[\"conditions\"]):\n",
    "            print(f\"{indent}  Step {depth + 2}.{idx + 1}: Trying to prove condition: {condition}\")\n",
    "            if not backward_chain(condition, rules, facts_dict, proved_goals, depth + 2):\n",
    "                all_conditions_proven = False\n",
    "                break\n",
    "\n",
    "        if all_conditions_proven:\n",
    "            print(f\"{indent}Step {depth + 1}: Proved: {goal}\")\n",
    "            proved_goals.add(goal)\n",
    "            return True\n",
    "\n",
    "    print(f\"{indent}Step {depth + 1}: Failed to prove: {goal}\")\n",
    "    return False\n"
   ]
  },
  {
   "cell_type": "markdown",
   "id": "e7bfc9761089f0f4",
   "metadata": {
    "jp-MarkdownHeadingCollapsed": true
   },
   "source": [
    "# forward chaining"
   ]
  },
  {
   "cell_type": "code",
   "execution_count": 54,
   "id": "2ab992c3297ac2e2",
   "metadata": {
    "ExecuteTime": {
     "end_time": "2025-05-06T03:31:35.057435Z",
     "start_time": "2025-05-06T03:31:35.039349Z"
    }
   },
   "outputs": [],
   "source": [
    "\n",
    "def forward_chaining(rules, initial_facts):\n",
    "\n",
    "    facts = initial_facts.copy()\n",
    "    inferred_facts = {}\n",
    "\n",
    "    iteration = 0\n",
    "    print_facts_state(iteration, facts)\n",
    "\n",
    "    new_fact_found = True\n",
    "    while new_fact_found:\n",
    "        iteration += 1\n",
    "        new_fact_found = False\n",
    "        print(f\"\\nForward Chaining - Iteration {iteration}:\")\n",
    "\n",
    "\n",
    "        for rule_idx, rule in enumerate(rules):\n",
    "            all_conditions_met = all(evaluate_condition(condition, facts) for condition in rule[\"conditions\"])\n",
    "\n",
    "            if all_conditions_met:\n",
    "                result = rule[\"result\"]\n",
    "\n",
    "\n",
    "                if ' is ' in result:\n",
    "                    attr, value = result.split(' is ')\n",
    "                    attr = attr.strip()\n",
    "                    value = value.strip()\n",
    "\n",
    "                    if attr not in facts or str(facts[attr]) != str(value):\n",
    "                        print(f\"  Applied Rule: {format_rule(rule)} -> {attr} is {value}\")\n",
    "                        facts[attr] = value\n",
    "                        inferred_facts[attr] = value\n",
    "                        new_fact_found = True\n",
    "                else:\n",
    "                    if result not in facts:\n",
    "                        print(f\"  Applied Rule: {format_rule(rule)} -> {result} is True\")\n",
    "                        facts[result] = True\n",
    "                        inferred_facts[result] = True\n",
    "                        new_fact_found = True\n",
    "\n",
    "        print_facts_state(iteration, facts)\n",
    "\n",
    "    print(f\"\\nForward chaining completed after {iteration} iterations.\")\n",
    "    return inferred_facts"
   ]
  },
  {
   "cell_type": "markdown",
   "id": "1e1f0f48589def2b",
   "metadata": {
    "jp-MarkdownHeadingCollapsed": true
   },
   "source": [
    "# debugging facts"
   ]
  },
  {
   "cell_type": "code",
   "execution_count": 55,
   "id": "289467f575da9db",
   "metadata": {
    "ExecuteTime": {
     "end_time": "2025-05-06T03:31:35.103045Z",
     "start_time": "2025-05-06T03:31:35.099889Z"
    }
   },
   "outputs": [],
   "source": [
    "def print_facts_state(iteration, facts):\n",
    "    print(f\"\\nFacts after iteration {iteration}:\")\n",
    "    for attr, value in sorted(facts.items()):\n",
    "        print(f\"  {attr}: {value}\")"
   ]
  },
  {
   "cell_type": "code",
   "execution_count": 56,
   "id": "2c9140a97a709f50",
   "metadata": {
    "ExecuteTime": {
     "end_time": "2025-05-06T03:31:35.159559Z",
     "start_time": "2025-05-06T03:31:35.149024Z"
    }
   },
   "outputs": [],
   "source": [
    "\n",
    "\n",
    "def print_all_facts(initial_facts, inferred_facts):\n",
    "\n",
    "    print(\"\\nAll Known Facts:\")\n",
    "    print(\"Initial Facts:\")\n",
    "    for attr, value in sorted(initial_facts.items()):\n",
    "        print(f\"  {attr}: {value}\")\n",
    "    print(\"Inferred Facts:\")\n",
    "    for attr, value in sorted(inferred_facts.items()):\n",
    "        print(f\"  {attr}: {value}\")"
   ]
  },
  {
   "cell_type": "markdown",
   "id": "26abf6859c00585d",
   "metadata": {
    "jp-MarkdownHeadingCollapsed": true
   },
   "source": [
    "# read facts & rules from files"
   ]
  },
  {
   "cell_type": "code",
   "execution_count": 57,
   "id": "c8da21af40344656",
   "metadata": {
    "ExecuteTime": {
     "end_time": "2025-05-06T03:31:35.204491Z",
     "start_time": "2025-05-06T03:31:35.201432Z"
    }
   },
   "outputs": [],
   "source": [
    "\n",
    "facts_dict, goal = load_facts(\"facts.txt\")\n",
    "rules = load_rules(\"rules.txt\")\n",
    "\n",
    "\n"
   ]
  },
  {
   "cell_type": "code",
   "execution_count": 58,
   "id": "5ad2030ae18d1880",
   "metadata": {
    "ExecuteTime": {
     "end_time": "2025-05-06T03:31:35.269013Z",
     "start_time": "2025-05-06T03:31:35.258943Z"
    }
   },
   "outputs": [
    {
     "name": "stdout",
     "output_type": "stream",
     "text": [
      "\n",
      "Facts loaded:\n",
      "  seeds: 0.0\n",
      "  diameter: 7.0\n",
      "  skin_smell: True\n",
      "  color: orange\n"
     ]
    }
   ],
   "source": [
    "print(\"\\nFacts loaded:\")\n",
    "for k, v in facts_dict.items():\n",
    "    print(f\"  {k}: {v}\")"
   ]
  },
  {
   "cell_type": "code",
   "execution_count": 59,
   "id": "d8c367c7306ec482",
   "metadata": {
    "ExecuteTime": {
     "end_time": "2025-05-06T03:31:35.341653Z",
     "start_time": "2025-05-06T03:31:35.332237Z"
    }
   },
   "outputs": [
    {
     "name": "stdout",
     "output_type": "stream",
     "text": [
      "\n",
      "Rules loaded:\n",
      "  Rule 1: IF shape is long AND color is yellow THEN fruit is banana\n",
      "  Rule 2: IF shape is round AND color is red AND size is medium THEN fruit is apple\n",
      "  Rule 3: IF shape is round AND color is red AND size is small THEN fruit is cherry\n",
      "  Rule 4: IF skin_smell THEN perfumed\n",
      "  Rule 5: IF fruit is lemon THEN citrus_fruit\n",
      "  Rule 6: IF fruit is orange THEN citrus_fruit\n",
      "  Rule 7: IF fruit is pomelo THEN citrus_fruit\n",
      "  Rule 8: IF fruit is grapefruit THEN citrus_fruit\n",
      "  Rule 9: IF size is medium AND color is yellow AND perfumed THEN fruit is lemon\n",
      "  Rule 10: IF size is medium AND color is green THEN fruit is kiwi\n",
      "  Rule 11: IF size is big AND perfumed AND color is orange AND citrus_fruit THEN fruit is grapefruit\n",
      "  Rule 12: IF perfumed AND color is orange AND size is medium THEN fruit is orange\n",
      "  Rule 13: IF perfumed AND color is red AND size is small AND seeds = 0 THEN fruit is strawberry\n",
      "  Rule 14: IF diameter < 2 THEN size is small\n",
      "  Rule 15: IF diameter > 10 THEN size is big\n",
      "  Rule 16: IF diameter > 2 AND diameter < 10 THEN size is medium\n"
     ]
    }
   ],
   "source": [
    "print(\"\\nRules loaded:\")\n",
    "for idx, r in enumerate(rules):\n",
    "    print(f\"  Rule {idx+1}: {format_rule(r)}\")"
   ]
  },
  {
   "cell_type": "markdown",
   "id": "c04ea120dad7b3b0",
   "metadata": {},
   "source": [
    "# Test"
   ]
  },
  {
   "metadata": {},
   "cell_type": "markdown",
   "source": "##  test backward chaining",
   "id": "afc5301f17f66927"
  },
  {
   "cell_type": "code",
   "execution_count": 60,
   "id": "f52797699e8d0f48",
   "metadata": {
    "ExecuteTime": {
     "end_time": "2025-05-06T03:31:35.408017Z",
     "start_time": "2025-05-06T03:31:35.404012Z"
    }
   },
   "outputs": [
    {
     "name": "stdout",
     "output_type": "stream",
     "text": [
      "\n",
      "Trying to prove goal: citrus_fruit\n",
      "Step 1: Trying to prove: citrus_fruit\n",
      "Step 1: Considering rule: IF fruit is lemon THEN citrus_fruit\n",
      "  Step 2.1: Trying to prove condition: fruit is lemon\n",
      "    Step 3: Trying to prove: fruit is lemon\n",
      "    Step 3: Considering rule: IF size is medium AND color is yellow AND perfumed THEN fruit is lemon\n",
      "      Step 4.1: Trying to prove condition: size is medium\n",
      "        Step 5: Trying to prove: size is medium\n",
      "        Step 5: Considering rule: IF diameter > 2 AND diameter < 10 THEN size is medium\n",
      "          Step 6.1: Trying to prove condition: diameter > 2\n",
      "            Step 7: Trying to prove: diameter > 2\n",
      "            Step 7: Evaluated and true: diameter > 2\n",
      "          Step 6.2: Trying to prove condition: diameter < 10\n",
      "            Step 7: Trying to prove: diameter < 10\n",
      "            Step 7: Evaluated and true: diameter < 10\n",
      "        Step 5: Proved: size is medium\n",
      "      Step 4.2: Trying to prove condition: color is yellow\n",
      "        Step 5: Trying to prove: color is yellow\n",
      "        Step 5: No applicable rules to prove: color is yellow\n",
      "    Step 3: Failed to prove: fruit is lemon\n",
      "Step 1: Considering rule: IF fruit is orange THEN citrus_fruit\n",
      "  Step 2.1: Trying to prove condition: fruit is orange\n",
      "    Step 3: Trying to prove: fruit is orange\n",
      "    Step 3: Considering rule: IF perfumed AND color is orange AND size is medium THEN fruit is orange\n",
      "      Step 4.1: Trying to prove condition: perfumed\n",
      "        Step 5: Trying to prove: perfumed\n",
      "        Step 5: Considering rule: IF skin_smell THEN perfumed\n",
      "          Step 6.1: Trying to prove condition: skin_smell\n",
      "            Step 7: Trying to prove: skin_smell\n",
      "            Step 7: Evaluated and true: skin_smell\n",
      "        Step 5: Proved: perfumed\n",
      "      Step 4.2: Trying to prove condition: color is orange\n",
      "        Step 5: Trying to prove: color is orange\n",
      "        Step 5: Evaluated and true: color is orange\n",
      "      Step 4.3: Trying to prove condition: size is medium\n",
      "        Step 5: Trying to prove: size is medium\n",
      "        Step 5: Already known: size is medium\n",
      "    Step 3: Proved: fruit is orange\n",
      "Step 1: Proved: citrus_fruit\n",
      "\n",
      "Can we prove 'citrus_fruit'? Yes\n"
     ]
    }
   ],
   "source": [
    "if goal:\n",
    "    print(f\"\\nTrying to prove goal: {goal}\")\n",
    "    result = backward_chain(goal, rules, facts_dict)\n",
    "    print(f\"\\nCan we prove '{goal}'? {'Yes' if result else 'No'}\")"
   ]
  },
  {
   "metadata": {},
   "cell_type": "markdown",
   "source": "## test forward chaining",
   "id": "965fbf19e1c614fd"
  },
  {
   "cell_type": "code",
   "execution_count": 61,
   "id": "d57f7707f3333ce1",
   "metadata": {
    "ExecuteTime": {
     "end_time": "2025-05-06T03:31:35.526938Z",
     "start_time": "2025-05-06T03:31:35.518513Z"
    }
   },
   "outputs": [
    {
     "name": "stdout",
     "output_type": "stream",
     "text": [
      "\n",
      "Facts after iteration 0:\n",
      "  color: orange\n",
      "  diameter: 7.0\n",
      "  seeds: 0.0\n",
      "  skin_smell: True\n",
      "\n",
      "Forward Chaining - Iteration 1:\n",
      "  Applied Rule: IF skin_smell THEN perfumed -> perfumed is True\n",
      "  Applied Rule: IF diameter > 2 AND diameter < 10 THEN size is medium -> size is medium\n",
      "\n",
      "Facts after iteration 1:\n",
      "  color: orange\n",
      "  diameter: 7.0\n",
      "  perfumed: True\n",
      "  seeds: 0.0\n",
      "  size: medium\n",
      "  skin_smell: True\n",
      "\n",
      "Forward Chaining - Iteration 2:\n",
      "  Applied Rule: IF perfumed AND color is orange AND size is medium THEN fruit is orange -> fruit is orange\n",
      "\n",
      "Facts after iteration 2:\n",
      "  color: orange\n",
      "  diameter: 7.0\n",
      "  fruit: orange\n",
      "  perfumed: True\n",
      "  seeds: 0.0\n",
      "  size: medium\n",
      "  skin_smell: True\n",
      "\n",
      "Forward Chaining - Iteration 3:\n",
      "  Applied Rule: IF fruit is orange THEN citrus_fruit -> citrus_fruit is True\n",
      "\n",
      "Facts after iteration 3:\n",
      "  citrus_fruit: True\n",
      "  color: orange\n",
      "  diameter: 7.0\n",
      "  fruit: orange\n",
      "  perfumed: True\n",
      "  seeds: 0.0\n",
      "  size: medium\n",
      "  skin_smell: True\n",
      "\n",
      "Forward Chaining - Iteration 4:\n",
      "\n",
      "Facts after iteration 4:\n",
      "  citrus_fruit: True\n",
      "  color: orange\n",
      "  diameter: 7.0\n",
      "  fruit: orange\n",
      "  perfumed: True\n",
      "  seeds: 0.0\n",
      "  size: medium\n",
      "  skin_smell: True\n",
      "\n",
      "Forward chaining completed after 4 iterations.\n"
     ]
    }
   ],
   "source": [
    "inferred_facts = forward_chaining(rules, facts_dict)\n"
   ]
  },
  {
   "cell_type": "code",
   "execution_count": 62,
   "id": "fb26ac45e4e7a7aa",
   "metadata": {
    "ExecuteTime": {
     "end_time": "2025-05-06T03:31:35.681093Z",
     "start_time": "2025-05-06T03:31:35.675099Z"
    }
   },
   "outputs": [
    {
     "name": "stdout",
     "output_type": "stream",
     "text": [
      "\n",
      "All Known Facts:\n",
      "Initial Facts:\n",
      "  color: orange\n",
      "  diameter: 7.0\n",
      "  seeds: 0.0\n",
      "  skin_smell: True\n",
      "Inferred Facts:\n",
      "  citrus_fruit: True\n",
      "  fruit: orange\n",
      "  perfumed: True\n",
      "  size: medium\n"
     ]
    }
   ],
   "source": [
    "print_all_facts(facts_dict, inferred_facts)"
   ]
  }
 ],
 "metadata": {
  "kernelspec": {
   "display_name": "Python 3 (ipykernel)",
   "language": "python",
   "name": "python3"
  },
  "language_info": {
   "codemirror_mode": {
    "name": "ipython",
    "version": 3
   },
   "file_extension": ".py",
   "mimetype": "text/x-python",
   "name": "python",
   "nbconvert_exporter": "python",
   "pygments_lexer": "ipython3",
   "version": "3.12.2"
  }
 },
 "nbformat": 4,
 "nbformat_minor": 5
}
